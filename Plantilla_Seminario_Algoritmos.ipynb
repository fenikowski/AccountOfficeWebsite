{
  "nbformat": 4,
  "nbformat_minor": 0,
  "metadata": {
    "colab": {
      "name": "Plantilla_Seminario_Algoritmos.ipynb",
      "provenance": [],
      "collapsed_sections": [],
      "include_colab_link": true
    },
    "kernelspec": {
      "name": "python3",
      "display_name": "Python 3"
    }
  },
  "cells": [
    {
      "cell_type": "markdown",
      "metadata": {
        "id": "view-in-github",
        "colab_type": "text"
      },
      "source": [
        "<a href=\"https://colab.research.google.com/github/fenikowski/AccountOfficeWebsite/blob/master/Plantilla_Seminario_Algoritmos.ipynb\" target=\"_parent\"><img src=\"https://colab.research.google.com/assets/colab-badge.svg\" alt=\"Open In Colab\"/></a>"
      ]
    },
    {
      "cell_type": "markdown",
      "metadata": {
        "id": "hVbXYX-RfPWh",
        "colab_type": "text"
      },
      "source": [
        "# Algoritmos de optimización - Seminario<br>\n",
        "Nombre y Apellidos: Igor Fenikowski  <br>\n",
        "Url: https://github.com/fenikowski/03MAIR--Algoritmos-de-Optimizacion--2020/blob/master/Seminario/Plantilla_Seminario_Algoritmos.ipynb<br>\n",
        "Url Colab: https://colab.research.google.com/drive/1gD2QCehUReSlIX9qZIN4GmxLu7Kk25_d?usp=sharing<br>\n",
        "Problema:\n",
        ">2. Organizar los horarios de partidos de La Liga<br>\n",
        "\n",
        "Descripción del problema:\n",
        "\n",
        ">Desde la La Liga de fútbol profesional se pretende organizar los horarios de los partidos de\n",
        "liga de cada jornada. Se conocen algunos datos que nos deben llevar a diseñar un\n",
        "algoritmo que realice la asignación de los partidos a los horarios de forma que maximice la audiencia. <br>\n",
        ">Los horarios disponibles se conocen a priori y son los siguientes: <br>\n",
        "> - Viernes: 20 <br>\n",
        "> - Sábado: 12, 16, 18, 20 <br>\n",
        "> - Domingo: 12, 16, 18, 20 <br>\n",
        "> - Lunes: 20 <br>\n",
        "\n",
        ">En primer lugar se clasifican los equipos en tres categorías según el numero de\n",
        "seguidores( que tiene relación directa con la audiencia). Hay 3 equipos en la\n",
        "categoría A, 11 equipos de categoría B y 6 equipos de categoría C.\n",
        "Se conoce estadisticamente la audiencia que genera cada partido según los equipos que se enfrentan y en horario de sábado a las 20h (el mejor en todos los casos). Si el horario del partido no se realiza a las 20 horas del sábado se sabe que se reduce. Debemos asignar obligatoriamente siempre un partido el viernes y un partido el lunes. Es posible la coincidencia de horarios pero en este caso la audiencia de cada partido se verá afectada y se estima que se reduce en porcentaje.\n",
        "\n",
        "\n",
        "                                "
      ]
    },
    {
      "cell_type": "code",
      "metadata": {
        "id": "AiskKkzZfy4e",
        "colab_type": "code",
        "colab": {}
      },
      "source": [
        "# Importación de librerías necesarias\n",
        "\n",
        "import pandas as pd\n",
        "import copy\n",
        "import random\n",
        "import math\n",
        "from itertools import combinations"
      ],
      "execution_count": 1,
      "outputs": []
    },
    {
      "cell_type": "markdown",
      "metadata": {
        "id": "3_-exlrTgLd-",
        "colab_type": "text"
      },
      "source": [
        "(*)¿Cuantas posibilidades hay sin tener en cuenta las restricciones?<br>\n",
        "\n",
        "\n",
        "\n",
        "¿Cuantas posibilidades hay teniendo en cuenta todas las restricciones.\n",
        "\n",
        "\n"
      ]
    },
    {
      "cell_type": "markdown",
      "metadata": {
        "id": "WfCUqJyKhPcw",
        "colab_type": "text"
      },
      "source": [
        "Respuesta"
      ]
    },
    {
      "cell_type": "code",
      "metadata": {
        "id": "iq6Fe32MgpDX",
        "colab_type": "code",
        "colab": {
          "base_uri": "https://localhost:8080/",
          "height": 34
        },
        "outputId": "9f49c1f8-41e6-4653-b5b9-ed51925954a8"
      },
      "source": [
        "# Si tratamos todos 20 equipos como equipos únicos, sin tener en cuenta las restricciones, obtenemos el siguiente calculo:\n",
        "result = 0\n",
        "\n",
        "# (maneras de sacar 10 partidos entre los 20 equipos dados)\n",
        "for i in range(2,21,2):\n",
        "  result += len(list(combinations(range(20),2)))\n",
        "\n",
        "# (maneras de asignar las fechas a cada partido)\n",
        "result *= 10 ** 10\n",
        "\n",
        "print(result)"
      ],
      "execution_count": 2,
      "outputs": [
        {
          "output_type": "stream",
          "text": [
            "19000000000000\n"
          ],
          "name": "stdout"
        }
      ]
    },
    {
      "cell_type": "code",
      "metadata": {
        "id": "zM2MUT7W_iPd",
        "colab_type": "code",
        "colab": {
          "base_uri": "https://localhost:8080/",
          "height": 34
        },
        "outputId": "c013e3f6-d8a7-4bea-849c-88880192556e"
      },
      "source": [
        "# Si tratamos todos 20 equipos como equipos únicos, teniendo en cuenta las restricciones (de al menos una partida el viernes y el lunes), obtenemos el siguiente calculo:\n",
        "result = 0\n",
        "\n",
        "# (maneras de sacar 10 partidos entre los 20 equipos dados)\n",
        "for i in range(2,21,2):\n",
        "  result += len(list(combinations(range(20),2)))\n",
        "\n",
        "# (maneras de asignar las fechas a cada partido)\n",
        "result *= 8 ** 10\n",
        "\n",
        "print(result)"
      ],
      "execution_count": 3,
      "outputs": [
        {
          "output_type": "stream",
          "text": [
            "2040109465600\n"
          ],
          "name": "stdout"
        }
      ]
    },
    {
      "cell_type": "markdown",
      "metadata": {
        "id": "dzynfVJahHoY",
        "colab_type": "text"
      },
      "source": [
        "Modelo para el espacio de soluciones<br>\n",
        "(*) ¿Cual es la estructura de datos que mejor se adapta al problema? Argumentalo.(Es posible que hayas elegido una al principio y veas la necesidad de cambiar, arguentalo)\n"
      ]
    },
    {
      "cell_type": "markdown",
      "metadata": {
        "id": "xFIJrOwKi2Ti",
        "colab_type": "text"
      },
      "source": [
        "Respuesta"
      ]
    },
    {
      "cell_type": "code",
      "metadata": {
        "id": "38c-7-ejhJmA",
        "colab_type": "code",
        "colab": {}
      },
      "source": [
        "# He elegido modelar los datos del problema en varios diccionarios y arrays para poder facilmente aplicar \"penalizaciones\" por coindencia o hora, \n",
        "# tanto como poder conseguir información clara sobre equipos disponibles y calendario creado.\n",
        "\n",
        "# Equipos para los que hay que preparar calendario:\n",
        "teams = {\"A\": 3, \"B\": 11, \"C\":6}\n",
        "\n",
        "# Diccionario con audiencia que generan partidas de diferentes equipos los sábados a las 20:\n",
        "category_converter = {\"AA\":2, \"AB\":1.3, \"AC\":1, \"BB\":0.9, \"BC\":0.75, \"CC\":0.47}\n",
        "\n",
        "# Array con penelizaciones por organizar más que un partido a una hora especifica:\n",
        "coincidences = [0, 1, 0.75, 0.55, 0.4, 0.3, 0.25, 0.22, 0.2, 0.2]\n",
        "\n",
        "# Diccionario con horario de partidas:\n",
        "# - \"weight\" se refiere a la ponderación asignada a cada hora, \n",
        "# - audiencia total inicializada,\n",
        "# - array de partidas inicializado\n",
        "\n",
        "scheldule = {\n",
        "    \"V20\": { \"games\": [], \"weight\": 0.4, \"audience\": 0 },\n",
        "    \"S12\": { \"games\": [], \"weight\": 0.55, \"audience\": 0 },\n",
        "    \"S16\": { \"games\": [], \"weight\": 0.7, \"audience\": 0 },\n",
        "    \"S18\": { \"games\": [], \"weight\": 0.8, \"audience\": 0 },\n",
        "    \"S20\": { \"games\": [], \"weight\": 1, \"audience\": 0 },\n",
        "    \"D12\": { \"games\": [], \"weight\": 0.45, \"audience\": 0 },\n",
        "    \"D16\": { \"games\": [], \"weight\": 0.75, \"audience\": 0 },\n",
        "    \"D18\": { \"games\": [], \"weight\": 0.5, \"audience\": 0 },\n",
        "    \"D20\": { \"games\": [], \"weight\": 1, \"audience\": 0 },\n",
        "    \"L20\": { \"games\": [], \"weight\": 0.4, \"audience\": 0 }\n",
        "}"
      ],
      "execution_count": 4,
      "outputs": []
    },
    {
      "cell_type": "markdown",
      "metadata": {
        "id": "7Z9U2W7bi-XS",
        "colab_type": "text"
      },
      "source": [
        "Según el modelo para el espacio de soluciones<br>\n",
        "(*)¿Cual es la función objetivo?\n",
        "\n",
        "(*)¿Es un problema de maximización o minimización?"
      ]
    },
    {
      "cell_type": "markdown",
      "metadata": {
        "id": "hBalWLM7j1_d",
        "colab_type": "text"
      },
      "source": [
        "Respuesta"
      ]
    },
    {
      "cell_type": "code",
      "metadata": {
        "id": "pDA-rg3Gj5Lz",
        "colab_type": "code",
        "colab": {}
      },
      "source": [
        "# La función objetivo es obtener calendario que proporcione el mayor número de audiencia en 10 partidas jugadas entre 20 equipos.\n",
        "# Es un problema de maximización, ya que se trata de obtener el valor máximo de la audiencia."
      ],
      "execution_count": 5,
      "outputs": []
    },
    {
      "cell_type": "markdown",
      "metadata": {
        "id": "rlnTYgY1j6I2",
        "colab_type": "text"
      },
      "source": [
        "Diseña un algoritmo para resolver el problema por fuerza bruta"
      ]
    },
    {
      "cell_type": "markdown",
      "metadata": {
        "id": "70rDgxYXkC8r",
        "colab_type": "text"
      },
      "source": [
        "Respuesta"
      ]
    },
    {
      "cell_type": "code",
      "metadata": {
        "id": "aKpnWFY0isgD",
        "colab_type": "code",
        "colab": {}
      },
      "source": [
        "# Ya que la complejidad de algoritmo por fuerza bruta es muy alta, el calculo para propuestos datos de entrada es muy largo\n",
        "# y no es posible obtener ningún resultado en tiempo razonable. Por tanto para testearlo y demostrar que si que podría conseguir buenos resultados,\n",
        "# me he permitido reducir el número de equipos de la entrada (solo en este caso) al 3 equipos de categoría A, 3 de categoría B y 2 de categoría C."
      ],
      "execution_count": 6,
      "outputs": []
    },
    {
      "cell_type": "code",
      "metadata": {
        "id": "QbBrsPvaltrx",
        "colab_type": "code",
        "colab": {}
      },
      "source": [
        "teams = {\"A\": 3, \"B\": 3, \"C\":2}"
      ],
      "execution_count": 7,
      "outputs": []
    },
    {
      "cell_type": "code",
      "metadata": {
        "id": "CJb5sQ0qkENy",
        "colab_type": "code",
        "colab": {}
      },
      "source": [
        "# FUNCIONES AUXILIARES\n",
        "# funcion para calcular partidas posibles de jugar\n",
        "\n",
        "def count_available_games(teams):\n",
        "  return {\n",
        "      \"AA\": { \"games\": teams[\"A\"] // 2, \"audience\": 2 },\n",
        "      \"BB\": { \"games\": teams[\"B\"] // 2, \"audience\": 0.9 },\n",
        "      \"CC\": { \"games\": teams[\"C\"] // 2, \"audience\": 0.47 },\n",
        "      \"AB\": { \"games\": min(teams[\"A\"], teams[\"B\"]), \"audience\": 1.3 },\n",
        "      \"AC\": { \"games\": min(teams[\"A\"], teams[\"C\"]), \"audience\": 1 },\n",
        "      \"BC\": { \"games\": min(teams[\"B\"], teams[\"C\"]), \"audience\": 0.75 }\n",
        "  }\n",
        "\n",
        "\n",
        "# funcion para obtener partidas de diferentes categorías que se puede generar\n",
        "\n",
        "def options_avaible(available_games):\n",
        "  total = []\n",
        "  for key, value in available_games.items():\n",
        "    if value[\"games\"] > 0:\n",
        "      total.append(key)\n",
        "\n",
        "  return total\n",
        "\n",
        "\n",
        "# funcion para contar el número total de partidas por jugar\n",
        "\n",
        "def count_games_left_total(teams):\n",
        "  total = 0\n",
        "  for value in teams.values():\n",
        "    total += value\n",
        "\n",
        "  return total // 2\n",
        "\n",
        "\n",
        "\n",
        "# funcion que calcula la diferencia en audiencia (positiva o negativa) de jugar una partida hipotetica\n",
        "\n",
        "def count_audience_difference(date, category, scheldule):\n",
        "  games_audience = category_converter[category]\n",
        "  new_audience = 0\n",
        "\n",
        "  for game in scheldule[date][\"games\"]:\n",
        "    games_audience += category_converter[game]\n",
        "\n",
        "  new_audience = scheldule[date][\"weight\"] * coincidences[len(scheldule[date][\"games\"]) + 1] * games_audience\n",
        "\n",
        "  return new_audience - scheldule[date][\"audience\"], new_audience\n",
        "\n",
        "\n",
        "\n",
        "# funcion que sirve para crear una partida en el calendario:\n",
        "# 1. elimina equipos de la lista de equipos que aún no tienen ninguna partida asignado\n",
        "# 2. guarda una partida en el calendario junto con su audiencia y categoría\n",
        "\n",
        "def create_game(date, category, new_audience, scheldule, teams):\n",
        "  reference_scheldule = copy.deepcopy(scheldule)\n",
        "  reference_teams = copy.deepcopy(teams)\n",
        "\n",
        "  if category == \"AA\":\n",
        "    reference_teams[\"A\"] -= 2\n",
        "  elif category == \"BB\":\n",
        "    reference_teams[\"B\"] -= 2\n",
        "  elif category == \"CC\":\n",
        "    reference_teams[\"C\"] -= 2\n",
        "  elif category == \"AB\":\n",
        "    reference_teams[\"A\"] -= 1\n",
        "    reference_teams[\"B\"] -= 1\n",
        "  elif category == \"AC\":\n",
        "    reference_teams[\"A\"] -= 1\n",
        "    reference_teams[\"C\"] -= 1\n",
        "  elif category == \"BC\":\n",
        "    reference_teams[\"B\"] -= 1\n",
        "    reference_teams[\"C\"] -= 1\n",
        "\n",
        "  reference_scheldule[date][\"games\"].append(category)\n",
        "  reference_scheldule[date][\"audience\"] = new_audience\n",
        "  return reference_scheldule, reference_teams\n",
        "\n",
        "\n",
        "\n",
        "# funcion que transforme el calendario en un array, para poder facilmente crear un DataFrame\n",
        "\n",
        "def transform_scheldule(data):\n",
        "  result = []\n",
        "  for date, values in data.items():\n",
        "    for game in values[\"games\"]:\n",
        "      result.append({ \n",
        "          \"Fecha\": date, \n",
        "          \"Partida\": game[0] + \" - \" + game[1], \n",
        "          \"Audiencia (en millones)\": round(values[\"weight\"] * category_converter[game] * coincidences[len(values[\"games\"])],2) \n",
        "          })\n",
        "  return result"
      ],
      "execution_count": 8,
      "outputs": []
    },
    {
      "cell_type": "code",
      "metadata": {
        "id": "APSrwpGiil5N",
        "colab_type": "code",
        "colab": {
          "base_uri": "https://localhost:8080/",
          "height": 50
        },
        "outputId": "8ccf73ba-0bac-40f8-e3d3-5cce2d470cab"
      },
      "source": [
        "# ALGORITMO POR FUERZA BRUTA\n",
        "\n",
        "%%time\n",
        "\n",
        "global_total_audience = 0\n",
        "global_scheldule = {}\n",
        "\n",
        "def brute_force(scheldule, teams, total_audience = 0):\n",
        "  global global_total_audience\n",
        "  global global_scheldule\n",
        "\n",
        "  # inicialización de variables\n",
        "  reference_scheldule = scheldule.copy()\n",
        "  reference_teams = teams.copy()\n",
        "  reference_audience = total_audience\n",
        "\n",
        "  # un bucle para iterar sobre número total de partidas por jugar\n",
        "  for category in options_avaible(count_available_games(reference_teams)):\n",
        "    for date in reference_scheldule.keys():\n",
        "      new_reference_scheldule = reference_scheldule.copy()\n",
        "      new_reference_audience = reference_audience\n",
        "      new_reference_teams = reference_teams.copy()\n",
        "\n",
        "      # calucula de diferencia en audiencia proporcionada por nueva partida\n",
        "      new_difference, new_audience = count_audience_difference(date, category, reference_scheldule) \n",
        "      new_game = { \"date\": date, \"category\": category, \"new_audience\": new_audience }\n",
        "\n",
        "      # los datos de nueva partida se guardan en el calendario\n",
        "      new_reference_scheldule, new_reference_teams = create_game(new_game[\"date\"], new_game[\"category\"], new_game[\"new_audience\"], reference_scheldule, reference_teams)\n",
        "      new_reference_audience += new_difference\n",
        "      brute_force(new_reference_scheldule, new_reference_teams, new_reference_audience)\n",
        "\n",
        "  # si el resultado es mejor, sobrescribe el calendario global, cual se devuelve al final del algoritmo\n",
        "  if reference_audience > global_total_audience:\n",
        "    global_total_audience = reference_audience\n",
        "    global_scheldule = reference_scheldule\n",
        "\n",
        "\n",
        "brute_force(scheldule, teams)"
      ],
      "execution_count": 9,
      "outputs": [
        {
          "output_type": "stream",
          "text": [
            "CPU times: user 1min 10s, sys: 7.42 ms, total: 1min 10s\n",
            "Wall time: 1min 10s\n"
          ],
          "name": "stdout"
        }
      ]
    },
    {
      "cell_type": "code",
      "metadata": {
        "id": "OcALPdb-mbzB",
        "colab_type": "code",
        "colab": {
          "base_uri": "https://localhost:8080/",
          "height": 212
        },
        "outputId": "3cd57811-d452-40f9-e080-1db0579f86f3"
      },
      "source": [
        "frame = transform_scheldule(global_scheldule)\n",
        "df = pd.DataFrame(frame)\n",
        "df = df.append(df.sum(numeric_only=True), ignore_index=True)\n",
        "df.fillna('',inplace=True)\n",
        "display(df)\n",
        "print(\"La audiencia total del calendario generado es igual a:\", '\\033[1m' + str(round(global_total_audience,2)) + '\\033[0m', \"milliones de personas.\")"
      ],
      "execution_count": 10,
      "outputs": [
        {
          "output_type": "display_data",
          "data": {
            "text/html": [
              "<div>\n",
              "<style scoped>\n",
              "    .dataframe tbody tr th:only-of-type {\n",
              "        vertical-align: middle;\n",
              "    }\n",
              "\n",
              "    .dataframe tbody tr th {\n",
              "        vertical-align: top;\n",
              "    }\n",
              "\n",
              "    .dataframe thead th {\n",
              "        text-align: right;\n",
              "    }\n",
              "</style>\n",
              "<table border=\"1\" class=\"dataframe\">\n",
              "  <thead>\n",
              "    <tr style=\"text-align: right;\">\n",
              "      <th></th>\n",
              "      <th>Fecha</th>\n",
              "      <th>Partida</th>\n",
              "      <th>Audiencia (en millones)</th>\n",
              "    </tr>\n",
              "  </thead>\n",
              "  <tbody>\n",
              "    <tr>\n",
              "      <th>0</th>\n",
              "      <td>S18</td>\n",
              "      <td>B - C</td>\n",
              "      <td>0.60</td>\n",
              "    </tr>\n",
              "    <tr>\n",
              "      <th>1</th>\n",
              "      <td>S20</td>\n",
              "      <td>A - A</td>\n",
              "      <td>2.00</td>\n",
              "    </tr>\n",
              "    <tr>\n",
              "      <th>2</th>\n",
              "      <td>D16</td>\n",
              "      <td>B - C</td>\n",
              "      <td>0.56</td>\n",
              "    </tr>\n",
              "    <tr>\n",
              "      <th>3</th>\n",
              "      <td>D20</td>\n",
              "      <td>A - B</td>\n",
              "      <td>1.30</td>\n",
              "    </tr>\n",
              "    <tr>\n",
              "      <th>4</th>\n",
              "      <td></td>\n",
              "      <td></td>\n",
              "      <td>4.46</td>\n",
              "    </tr>\n",
              "  </tbody>\n",
              "</table>\n",
              "</div>"
            ],
            "text/plain": [
              "  Fecha Partida  Audiencia (en millones)\n",
              "0   S18   B - C                     0.60\n",
              "1   S20   A - A                     2.00\n",
              "2   D16   B - C                     0.56\n",
              "3   D20   A - B                     1.30\n",
              "4                                   4.46"
            ]
          },
          "metadata": {
            "tags": []
          }
        },
        {
          "output_type": "stream",
          "text": [
            "La audiencia total del calendario generado es igual a: \u001b[1m4.46\u001b[0m milliones de personas.\n"
          ],
          "name": "stdout"
        }
      ]
    },
    {
      "cell_type": "markdown",
      "metadata": {
        "id": "tgrnsC2nkFa8",
        "colab_type": "text"
      },
      "source": [
        "Calcula la complejidad del algoritmo por fuerza bruta"
      ]
    },
    {
      "cell_type": "markdown",
      "metadata": {
        "id": "9eUd3xwckP68",
        "colab_type": "text"
      },
      "source": [
        "Respuesta"
      ]
    },
    {
      "cell_type": "code",
      "metadata": {
        "id": "rvZWwL-ckRST",
        "colab_type": "code",
        "colab": {}
      },
      "source": [
        "# Es muy dificil calcular la complejidad exacta del algoritmo por fuerza bruta debido a existencia de varios funciones auxiliares y calculo de partidas posibles de jugar.\n",
        "# Para dar un ejemplo, si tenemos 4 equipos (3xA, 2xB, 1xC) es posible generar partidas de categoría AA, AB, AC, BB, BC, pero dependientemente de cual opción\n",
        "# elijamos, las siguientes opciones van a diferirse. \n",
        "\n",
        "# De todos modos, estimo que la complejidad es de orden factorial."
      ],
      "execution_count": 11,
      "outputs": []
    },
    {
      "cell_type": "markdown",
      "metadata": {
        "id": "txbrmLmskReM",
        "colab_type": "text"
      },
      "source": [
        "(*)Diseña un algoritmo que mejore la complejidad del algortimo por fuerza bruta. Argumenta porque crees que mejora el algoritmo por fuerza bruta"
      ]
    },
    {
      "cell_type": "markdown",
      "metadata": {
        "id": "hLrVwt5QkZPD",
        "colab_type": "text"
      },
      "source": [
        "Respuesta"
      ]
    },
    {
      "cell_type": "code",
      "metadata": {
        "id": "Wxt8a-eLrO2b",
        "colab_type": "code",
        "colab": {}
      },
      "source": [
        "# Para volver a problema original, inicializo otra vez el número de equipos, que anteriormente simplifiqué para testear el algoritmo de fuerza bruta.\n",
        "teams = {\"A\": 3, \"B\": 11, \"C\":6}"
      ],
      "execution_count": 12,
      "outputs": []
    },
    {
      "cell_type": "code",
      "metadata": {
        "id": "_orbanP0tNoS",
        "colab_type": "code",
        "colab": {}
      },
      "source": [
        "# Mi candidato para dar una solución buena en tiempo limitado es programación dinámica. Es un algoritmo voraz, que significa que no podemos estar seguros\n",
        "# si el resultado que da será el óptimo, pero seguramente será suficiente para conseguir un número de audiencia alto."
      ],
      "execution_count": 13,
      "outputs": []
    },
    {
      "cell_type": "code",
      "metadata": {
        "id": "m1eyM21Vkabg",
        "colab_type": "code",
        "colab": {
          "base_uri": "https://localhost:8080/",
          "height": 50
        },
        "outputId": "e49327c0-38f7-488e-b61b-44f842df5013"
      },
      "source": [
        "%%time\n",
        "\n",
        "def dynamic_programming(scheldule, teams):\n",
        "\n",
        "  # inicialización de variables\n",
        "  reference_scheldule = copy.deepcopy(scheldule)\n",
        "  reference_teams = copy.deepcopy(teams)\n",
        "  total_audience = 0\n",
        "\n",
        "  # un bucle para iterar sobre número total de partidas por jugar\n",
        "  for game in range(count_games_left_total(teams)):\n",
        "\n",
        "    # se calcula un diccionario con categorías de partidas posibles de jugar y se inicializan dos variables de referencia\n",
        "    games_available = count_available_games(reference_teams)  \n",
        "    refference_difference = -999\n",
        "    new_game = {}\n",
        "\n",
        "    # un bucle para iterar por todas categorías en las que se puede generar una partida\n",
        "    for category, game_available in games_available.items():\n",
        "      if game_available[\"games\"] > 0:\n",
        "\n",
        "        # un bucle para iterar por todas las fechas disponibles\n",
        "        for date, values in reference_scheldule.items():\n",
        "\n",
        "          # para cada fecha se calcula la diferencia en audiencia en caso de crear una partida, \n",
        "          # teniendo en cuenta audiencia de la fecha, penalización por coincidencia para todas partidas de la fecha y audiencia por categoría de la partida\n",
        "          # (la diferencia puede tener valor negativo)\n",
        "          new_difference, new_audience = count_audience_difference(date, category, reference_scheldule) \n",
        "\n",
        "          # si la diferencia es mayor que la de referencia, se guarda el nuevo valor de diferencia y detalles de la partida\n",
        "          if(new_difference > refference_difference):\n",
        "            refference_difference = new_difference\n",
        "            new_game = { \"date\": date, \"category\": category, \"new_audience\": new_audience }\n",
        "\n",
        "    # al final del bucle se crea la partida que atrae el mayor número de aficionados y se guarda la nueva audiencia total\n",
        "    reference_scheldule, reference_teams = create_game(new_game[\"date\"], new_game[\"category\"], new_game[\"new_audience\"], reference_scheldule, reference_teams)\n",
        "    total_audience += refference_difference\n",
        "\n",
        "  return total_audience, reference_scheldule\n",
        "\n",
        "\n",
        "total_audience, created_scheldule = dynamic_programming(scheldule, teams)"
      ],
      "execution_count": 14,
      "outputs": [
        {
          "output_type": "stream",
          "text": [
            "CPU times: user 1.03 ms, sys: 0 ns, total: 1.03 ms\n",
            "Wall time: 1.04 ms\n"
          ],
          "name": "stdout"
        }
      ]
    },
    {
      "cell_type": "code",
      "metadata": {
        "id": "mjkwbTIKsGRz",
        "colab_type": "code",
        "colab": {
          "base_uri": "https://localhost:8080/",
          "height": 390
        },
        "outputId": "ffc3c2b0-2860-4ea0-96c0-de716374bdd3"
      },
      "source": [
        "frame = transform_scheldule(created_scheldule)\n",
        "df = pd.DataFrame(frame)\n",
        "df = df.append(df.sum(numeric_only=True), ignore_index=True)\n",
        "df.fillna('',inplace=True)\n",
        "display(df)\n",
        "print(\"La audiencia total del calendario generado es igual a:\", '\\033[1m' + str(round(total_audience,2)) + '\\033[0m', \"milliones de personas.\")"
      ],
      "execution_count": 15,
      "outputs": [
        {
          "output_type": "display_data",
          "data": {
            "text/html": [
              "<div>\n",
              "<style scoped>\n",
              "    .dataframe tbody tr th:only-of-type {\n",
              "        vertical-align: middle;\n",
              "    }\n",
              "\n",
              "    .dataframe tbody tr th {\n",
              "        vertical-align: top;\n",
              "    }\n",
              "\n",
              "    .dataframe thead th {\n",
              "        text-align: right;\n",
              "    }\n",
              "</style>\n",
              "<table border=\"1\" class=\"dataframe\">\n",
              "  <thead>\n",
              "    <tr style=\"text-align: right;\">\n",
              "      <th></th>\n",
              "      <th>Fecha</th>\n",
              "      <th>Partida</th>\n",
              "      <th>Audiencia (en millones)</th>\n",
              "    </tr>\n",
              "  </thead>\n",
              "  <tbody>\n",
              "    <tr>\n",
              "      <th>0</th>\n",
              "      <td>V20</td>\n",
              "      <td>C - C</td>\n",
              "      <td>0.19</td>\n",
              "    </tr>\n",
              "    <tr>\n",
              "      <th>1</th>\n",
              "      <td>S12</td>\n",
              "      <td>B - B</td>\n",
              "      <td>0.50</td>\n",
              "    </tr>\n",
              "    <tr>\n",
              "      <th>2</th>\n",
              "      <td>S16</td>\n",
              "      <td>B - B</td>\n",
              "      <td>0.63</td>\n",
              "    </tr>\n",
              "    <tr>\n",
              "      <th>3</th>\n",
              "      <td>S18</td>\n",
              "      <td>B - B</td>\n",
              "      <td>0.72</td>\n",
              "    </tr>\n",
              "    <tr>\n",
              "      <th>4</th>\n",
              "      <td>S20</td>\n",
              "      <td>A - A</td>\n",
              "      <td>2.00</td>\n",
              "    </tr>\n",
              "    <tr>\n",
              "      <th>5</th>\n",
              "      <td>D12</td>\n",
              "      <td>C - C</td>\n",
              "      <td>0.21</td>\n",
              "    </tr>\n",
              "    <tr>\n",
              "      <th>6</th>\n",
              "      <td>D16</td>\n",
              "      <td>B - B</td>\n",
              "      <td>0.68</td>\n",
              "    </tr>\n",
              "    <tr>\n",
              "      <th>7</th>\n",
              "      <td>D18</td>\n",
              "      <td>B - B</td>\n",
              "      <td>0.45</td>\n",
              "    </tr>\n",
              "    <tr>\n",
              "      <th>8</th>\n",
              "      <td>D20</td>\n",
              "      <td>A - B</td>\n",
              "      <td>1.30</td>\n",
              "    </tr>\n",
              "    <tr>\n",
              "      <th>9</th>\n",
              "      <td>L20</td>\n",
              "      <td>C - C</td>\n",
              "      <td>0.19</td>\n",
              "    </tr>\n",
              "    <tr>\n",
              "      <th>10</th>\n",
              "      <td></td>\n",
              "      <td></td>\n",
              "      <td>6.87</td>\n",
              "    </tr>\n",
              "  </tbody>\n",
              "</table>\n",
              "</div>"
            ],
            "text/plain": [
              "   Fecha Partida  Audiencia (en millones)\n",
              "0    V20   C - C                     0.19\n",
              "1    S12   B - B                     0.50\n",
              "2    S16   B - B                     0.63\n",
              "3    S18   B - B                     0.72\n",
              "4    S20   A - A                     2.00\n",
              "5    D12   C - C                     0.21\n",
              "6    D16   B - B                     0.68\n",
              "7    D18   B - B                     0.45\n",
              "8    D20   A - B                     1.30\n",
              "9    L20   C - C                     0.19\n",
              "10                                   6.87"
            ]
          },
          "metadata": {
            "tags": []
          }
        },
        {
          "output_type": "stream",
          "text": [
            "La audiencia total del calendario generado es igual a: \u001b[1m6.86\u001b[0m milliones de personas.\n"
          ],
          "name": "stdout"
        }
      ]
    },
    {
      "cell_type": "code",
      "metadata": {
        "id": "Wz7eUN3GuejA",
        "colab_type": "code",
        "colab": {}
      },
      "source": [
        "# Otra opción que se podría implementar es un algoritmo de busqueda aleatoria. Aunque en el caso en el que hay 20 equipos de entrada, \n",
        "# no ha sido mejor que programación dinámica, puede ser que para un número mayor de entrada sea más eficaz."
      ],
      "execution_count": 16,
      "outputs": []
    },
    {
      "cell_type": "code",
      "metadata": {
        "id": "MMyf4CpwvFAe",
        "colab_type": "code",
        "colab": {}
      },
      "source": [
        "def create_random_solution(scheldule, teams):\n",
        "\n",
        "  # inicialización de variables\n",
        "  total_audience = 0\n",
        "  reference_scheldule = scheldule.copy()\n",
        "  reference_teams = teams.copy()\n",
        "\n",
        "  # un bucle para iterar sobre número total de partidas por jugar\n",
        "  for game in range(count_games_left_total(teams)):\n",
        "\n",
        "    # se calcula un diccionario con categorías de partidas posibles de jugar y se inicializan dos variables de referencia\n",
        "    games_available = count_available_games(reference_teams)\n",
        "    new_game = {}\n",
        "\n",
        "    # de todas posibles categorías de partidas por jugar se elige aleatoriamente una\n",
        "    games_available_dict = {k: v for k, v in games_available.items() if v[\"games\"] > 0}\n",
        "    game_category = random.choice(list(games_available_dict.keys()))\n",
        "    game_values = games_available_dict[game_category]\n",
        "\n",
        "    # de todas posibles fechas para jugar una partida se elige aleatoriamente una\n",
        "    dates = reference_scheldule.keys()\n",
        "    values = reference_scheldule.values()\n",
        "    date = random.choice(list(dates))\n",
        "\n",
        "    # se calcula la diferencia en audiencia y se crea la nueva partida en calendario independiemente del resultado\n",
        "    new_difference, new_audience = count_audience_difference(date, game_category, reference_scheldule) \n",
        "    new_game = { \"date\": date, \"category\": game_category, \"new_audience\": new_audience }\n",
        "\n",
        "    reference_scheldule, reference_teams = create_game(new_game[\"date\"], new_game[\"category\"], new_game[\"new_audience\"], reference_scheldule, reference_teams)\n",
        "    total_audience += new_difference\n",
        "\n",
        "  return total_audience, reference_scheldule"
      ],
      "execution_count": 17,
      "outputs": []
    },
    {
      "cell_type": "code",
      "metadata": {
        "id": "pwVBIpWJvKXd",
        "colab_type": "code",
        "colab": {
          "base_uri": "https://localhost:8080/",
          "height": 50
        },
        "outputId": "dda1c24e-16ce-465c-e55f-89159199e196"
      },
      "source": [
        "%%time\n",
        "\n",
        "def random_search(scheldule, teams, iterations):\n",
        "  reference_scheldule = scheldule.copy()\n",
        "  reference_teams = teams.copy()\n",
        "  best_total_audience = 0\n",
        "  best_scheldule = {}\n",
        "\n",
        "  # generación de calendario en cada iteración\n",
        "  for i in range(iterations):\n",
        "    new_total_audience, new_scheldule = create_random_solution(reference_scheldule, reference_teams)\n",
        "\n",
        "    # si el nuevo calendario es mejor, se guardo el resultado\n",
        "    if(new_total_audience > best_total_audience and len(new_scheldule[\"V20\"][\"games\"]) > 0 and len(new_scheldule[\"L20\"][\"games\"]) > 0 ):\n",
        "      best_total_audience = new_total_audience\n",
        "      best_scheldule = new_scheldule\n",
        "\n",
        "  return best_total_audience, best_scheldule\n",
        "\n",
        "\n",
        "total_audience, created_scheldule = random_search(scheldule, teams, 100000)"
      ],
      "execution_count": 18,
      "outputs": [
        {
          "output_type": "stream",
          "text": [
            "CPU times: user 1min 17s, sys: 10 ms, total: 1min 17s\n",
            "Wall time: 1min 17s\n"
          ],
          "name": "stdout"
        }
      ]
    },
    {
      "cell_type": "code",
      "metadata": {
        "id": "Xr_IDZmnvUSs",
        "colab_type": "code",
        "colab": {
          "base_uri": "https://localhost:8080/",
          "height": 390
        },
        "outputId": "94a8985d-aa59-47c3-b23e-52af0a78bb1b"
      },
      "source": [
        "frame = transform_scheldule(created_scheldule)\n",
        "df = pd.DataFrame(frame)\n",
        "df = df.append(df.sum(numeric_only=True), ignore_index=True)\n",
        "df.fillna('',inplace=True)\n",
        "display(df)\n",
        "print(\"La audiencia total del calendario generado es igual a:\", '\\033[1m' + str(round(total_audience,2)) + '\\033[0m', \"milliones de personas.\")"
      ],
      "execution_count": 19,
      "outputs": [
        {
          "output_type": "display_data",
          "data": {
            "text/html": [
              "<div>\n",
              "<style scoped>\n",
              "    .dataframe tbody tr th:only-of-type {\n",
              "        vertical-align: middle;\n",
              "    }\n",
              "\n",
              "    .dataframe tbody tr th {\n",
              "        vertical-align: top;\n",
              "    }\n",
              "\n",
              "    .dataframe thead th {\n",
              "        text-align: right;\n",
              "    }\n",
              "</style>\n",
              "<table border=\"1\" class=\"dataframe\">\n",
              "  <thead>\n",
              "    <tr style=\"text-align: right;\">\n",
              "      <th></th>\n",
              "      <th>Fecha</th>\n",
              "      <th>Partida</th>\n",
              "      <th>Audiencia (en millones)</th>\n",
              "    </tr>\n",
              "  </thead>\n",
              "  <tbody>\n",
              "    <tr>\n",
              "      <th>0</th>\n",
              "      <td>V20</td>\n",
              "      <td>C - C</td>\n",
              "      <td>0.19</td>\n",
              "    </tr>\n",
              "    <tr>\n",
              "      <th>1</th>\n",
              "      <td>S12</td>\n",
              "      <td>B - B</td>\n",
              "      <td>0.50</td>\n",
              "    </tr>\n",
              "    <tr>\n",
              "      <th>2</th>\n",
              "      <td>S16</td>\n",
              "      <td>B - B</td>\n",
              "      <td>0.63</td>\n",
              "    </tr>\n",
              "    <tr>\n",
              "      <th>3</th>\n",
              "      <td>S18</td>\n",
              "      <td>A - B</td>\n",
              "      <td>1.04</td>\n",
              "    </tr>\n",
              "    <tr>\n",
              "      <th>4</th>\n",
              "      <td>S20</td>\n",
              "      <td>B - C</td>\n",
              "      <td>0.56</td>\n",
              "    </tr>\n",
              "    <tr>\n",
              "      <th>5</th>\n",
              "      <td>S20</td>\n",
              "      <td>B - B</td>\n",
              "      <td>0.68</td>\n",
              "    </tr>\n",
              "    <tr>\n",
              "      <th>6</th>\n",
              "      <td>D12</td>\n",
              "      <td>B - C</td>\n",
              "      <td>0.34</td>\n",
              "    </tr>\n",
              "    <tr>\n",
              "      <th>7</th>\n",
              "      <td>D16</td>\n",
              "      <td>B - B</td>\n",
              "      <td>0.68</td>\n",
              "    </tr>\n",
              "    <tr>\n",
              "      <th>8</th>\n",
              "      <td>D20</td>\n",
              "      <td>A - A</td>\n",
              "      <td>2.00</td>\n",
              "    </tr>\n",
              "    <tr>\n",
              "      <th>9</th>\n",
              "      <td>L20</td>\n",
              "      <td>C - C</td>\n",
              "      <td>0.19</td>\n",
              "    </tr>\n",
              "    <tr>\n",
              "      <th>10</th>\n",
              "      <td></td>\n",
              "      <td></td>\n",
              "      <td>6.81</td>\n",
              "    </tr>\n",
              "  </tbody>\n",
              "</table>\n",
              "</div>"
            ],
            "text/plain": [
              "   Fecha Partida  Audiencia (en millones)\n",
              "0    V20   C - C                     0.19\n",
              "1    S12   B - B                     0.50\n",
              "2    S16   B - B                     0.63\n",
              "3    S18   A - B                     1.04\n",
              "4    S20   B - C                     0.56\n",
              "5    S20   B - B                     0.68\n",
              "6    D12   B - C                     0.34\n",
              "7    D16   B - B                     0.68\n",
              "8    D20   A - A                     2.00\n",
              "9    L20   C - C                     0.19\n",
              "10                                   6.81"
            ]
          },
          "metadata": {
            "tags": []
          }
        },
        {
          "output_type": "stream",
          "text": [
            "La audiencia total del calendario generado es igual a: \u001b[1m6.79\u001b[0m milliones de personas.\n"
          ],
          "name": "stdout"
        }
      ]
    },
    {
      "cell_type": "markdown",
      "metadata": {
        "id": "eGDB4K6uk1iN",
        "colab_type": "text"
      },
      "source": [
        "(*)Calcula la complejidad del algoritmo "
      ]
    },
    {
      "cell_type": "markdown",
      "metadata": {
        "id": "NhpTh_BPk1ms",
        "colab_type": "text"
      },
      "source": [
        "Respuesta"
      ]
    },
    {
      "cell_type": "code",
      "metadata": {
        "id": "nREzhkStlCq8",
        "colab_type": "code",
        "colab": {}
      },
      "source": [
        "# La complejidad del algoritmo de programación dinamica es de orden cuadrático.\n",
        "# La complejidad del algoritmo de busqueda aleatoria es de orden lineal."
      ],
      "execution_count": 20,
      "outputs": []
    },
    {
      "cell_type": "markdown",
      "metadata": {
        "id": "3M6QjTsSkmYe",
        "colab_type": "text"
      },
      "source": [
        "Según el problema (y tenga sentido), diseña un juego de datos de entrada aleatorios"
      ]
    },
    {
      "cell_type": "markdown",
      "metadata": {
        "id": "Jc3_OlyNkvjZ",
        "colab_type": "text"
      },
      "source": [
        "Respuesta"
      ]
    },
    {
      "cell_type": "code",
      "metadata": {
        "id": "sJ-N2etjkyWc",
        "colab_type": "code",
        "colab": {
          "base_uri": "https://localhost:8080/",
          "height": 34
        },
        "outputId": "3e187b11-97c7-45a2-aff1-8bd4a686d606"
      },
      "source": [
        "def create_teams(max_value):\n",
        "  total_number = random.randint(2, max_value)\n",
        "  total_number = total_number + 1 if total_number % 2 != 0 else total_number\n",
        "\n",
        "  teams_array = [0,0,0]\n",
        "\n",
        "  for i in range(total_number):\n",
        "    teams_array[random.randint(0,2)] += 1\n",
        "\n",
        "  return {\"A\": teams_array[0], \"B\": teams_array[1], \"C\": teams_array[2]}\n",
        "\n",
        "teams = create_teams(100)\n",
        "print(teams)"
      ],
      "execution_count": 21,
      "outputs": [
        {
          "output_type": "stream",
          "text": [
            "{'A': 9, 'B': 15, 'C': 14}\n"
          ],
          "name": "stdout"
        }
      ]
    },
    {
      "cell_type": "markdown",
      "metadata": {
        "id": "zy5ZROmjlGo1",
        "colab_type": "text"
      },
      "source": [
        "Aplica el algoritmo al juego de datos generado"
      ]
    },
    {
      "cell_type": "markdown",
      "metadata": {
        "id": "_Cmj-PVylMsa",
        "colab_type": "text"
      },
      "source": [
        "Respuesta"
      ]
    },
    {
      "cell_type": "code",
      "metadata": {
        "id": "ZQgdRlDr0-fw",
        "colab_type": "code",
        "colab": {}
      },
      "source": [
        "# Para poder generar calendario para número grande de equipos, necesito previamente ampliar el array con penalizaciones por coincidencia\n",
        "coincidences = [0, 1, 0.75, 0.55, 0.4, 0.3, 0.25, 0.22, 0.2, 0.2, 0.2, 0.2, 0.2, 0.2, 0.2, 0.2, 0.2, 0.2, 0.2, 0.2, 0.2, 0.2, 0.2, 0.2, 0.2, 0.2, 0.2, 0.2, 0.2, 0.2]"
      ],
      "execution_count": 22,
      "outputs": []
    },
    {
      "cell_type": "code",
      "metadata": {
        "id": "Jkx8GeiYlUz1",
        "colab_type": "code",
        "colab": {
          "base_uri": "https://localhost:8080/",
          "height": 656
        },
        "outputId": "90365b03-677a-4942-a1a8-ae97d5e878d5"
      },
      "source": [
        "# PROGRAMACIÓN DINÁMICA\n",
        "\n",
        "total_audience, created_scheldule = dynamic_programming(scheldule, teams)\n",
        "frame = transform_scheldule(created_scheldule)\n",
        "df = pd.DataFrame(frame)\n",
        "df = df.append(df.sum(numeric_only=True), ignore_index=True)\n",
        "df.fillna('',inplace=True)\n",
        "display(df)\n",
        "print(\"La audiencia total del calendario generado es igual a:\", '\\033[1m' + str(round(total_audience,2)) + '\\033[0m', \"milliones de personas.\")"
      ],
      "execution_count": 23,
      "outputs": [
        {
          "output_type": "display_data",
          "data": {
            "text/html": [
              "<div>\n",
              "<style scoped>\n",
              "    .dataframe tbody tr th:only-of-type {\n",
              "        vertical-align: middle;\n",
              "    }\n",
              "\n",
              "    .dataframe tbody tr th {\n",
              "        vertical-align: top;\n",
              "    }\n",
              "\n",
              "    .dataframe thead th {\n",
              "        text-align: right;\n",
              "    }\n",
              "</style>\n",
              "<table border=\"1\" class=\"dataframe\">\n",
              "  <thead>\n",
              "    <tr style=\"text-align: right;\">\n",
              "      <th></th>\n",
              "      <th>Fecha</th>\n",
              "      <th>Partida</th>\n",
              "      <th>Audiencia (en millones)</th>\n",
              "    </tr>\n",
              "  </thead>\n",
              "  <tbody>\n",
              "    <tr>\n",
              "      <th>0</th>\n",
              "      <td>V20</td>\n",
              "      <td>B - B</td>\n",
              "      <td>0.20</td>\n",
              "    </tr>\n",
              "    <tr>\n",
              "      <th>1</th>\n",
              "      <td>V20</td>\n",
              "      <td>C - C</td>\n",
              "      <td>0.10</td>\n",
              "    </tr>\n",
              "    <tr>\n",
              "      <th>2</th>\n",
              "      <td>V20</td>\n",
              "      <td>C - C</td>\n",
              "      <td>0.10</td>\n",
              "    </tr>\n",
              "    <tr>\n",
              "      <th>3</th>\n",
              "      <td>S12</td>\n",
              "      <td>B - B</td>\n",
              "      <td>0.37</td>\n",
              "    </tr>\n",
              "    <tr>\n",
              "      <th>4</th>\n",
              "      <td>S12</td>\n",
              "      <td>B - B</td>\n",
              "      <td>0.37</td>\n",
              "    </tr>\n",
              "    <tr>\n",
              "      <th>5</th>\n",
              "      <td>S16</td>\n",
              "      <td>A - B</td>\n",
              "      <td>0.68</td>\n",
              "    </tr>\n",
              "    <tr>\n",
              "      <th>6</th>\n",
              "      <td>S16</td>\n",
              "      <td>B - B</td>\n",
              "      <td>0.47</td>\n",
              "    </tr>\n",
              "    <tr>\n",
              "      <th>7</th>\n",
              "      <td>S18</td>\n",
              "      <td>A - A</td>\n",
              "      <td>1.60</td>\n",
              "    </tr>\n",
              "    <tr>\n",
              "      <th>8</th>\n",
              "      <td>S20</td>\n",
              "      <td>A - A</td>\n",
              "      <td>2.00</td>\n",
              "    </tr>\n",
              "    <tr>\n",
              "      <th>9</th>\n",
              "      <td>D12</td>\n",
              "      <td>B - B</td>\n",
              "      <td>0.22</td>\n",
              "    </tr>\n",
              "    <tr>\n",
              "      <th>10</th>\n",
              "      <td>D12</td>\n",
              "      <td>C - C</td>\n",
              "      <td>0.12</td>\n",
              "    </tr>\n",
              "    <tr>\n",
              "      <th>11</th>\n",
              "      <td>D12</td>\n",
              "      <td>C - C</td>\n",
              "      <td>0.12</td>\n",
              "    </tr>\n",
              "    <tr>\n",
              "      <th>12</th>\n",
              "      <td>D16</td>\n",
              "      <td>A - A</td>\n",
              "      <td>1.50</td>\n",
              "    </tr>\n",
              "    <tr>\n",
              "      <th>13</th>\n",
              "      <td>D18</td>\n",
              "      <td>B - B</td>\n",
              "      <td>0.34</td>\n",
              "    </tr>\n",
              "    <tr>\n",
              "      <th>14</th>\n",
              "      <td>D18</td>\n",
              "      <td>C - C</td>\n",
              "      <td>0.18</td>\n",
              "    </tr>\n",
              "    <tr>\n",
              "      <th>15</th>\n",
              "      <td>D20</td>\n",
              "      <td>A - A</td>\n",
              "      <td>2.00</td>\n",
              "    </tr>\n",
              "    <tr>\n",
              "      <th>16</th>\n",
              "      <td>L20</td>\n",
              "      <td>B - B</td>\n",
              "      <td>0.20</td>\n",
              "    </tr>\n",
              "    <tr>\n",
              "      <th>17</th>\n",
              "      <td>L20</td>\n",
              "      <td>C - C</td>\n",
              "      <td>0.10</td>\n",
              "    </tr>\n",
              "    <tr>\n",
              "      <th>18</th>\n",
              "      <td>L20</td>\n",
              "      <td>C - C</td>\n",
              "      <td>0.10</td>\n",
              "    </tr>\n",
              "    <tr>\n",
              "      <th>19</th>\n",
              "      <td></td>\n",
              "      <td></td>\n",
              "      <td>10.77</td>\n",
              "    </tr>\n",
              "  </tbody>\n",
              "</table>\n",
              "</div>"
            ],
            "text/plain": [
              "   Fecha Partida  Audiencia (en millones)\n",
              "0    V20   B - B                     0.20\n",
              "1    V20   C - C                     0.10\n",
              "2    V20   C - C                     0.10\n",
              "3    S12   B - B                     0.37\n",
              "4    S12   B - B                     0.37\n",
              "5    S16   A - B                     0.68\n",
              "6    S16   B - B                     0.47\n",
              "7    S18   A - A                     1.60\n",
              "8    S20   A - A                     2.00\n",
              "9    D12   B - B                     0.22\n",
              "10   D12   C - C                     0.12\n",
              "11   D12   C - C                     0.12\n",
              "12   D16   A - A                     1.50\n",
              "13   D18   B - B                     0.34\n",
              "14   D18   C - C                     0.18\n",
              "15   D20   A - A                     2.00\n",
              "16   L20   B - B                     0.20\n",
              "17   L20   C - C                     0.10\n",
              "18   L20   C - C                     0.10\n",
              "19                                  10.77"
            ]
          },
          "metadata": {
            "tags": []
          }
        },
        {
          "output_type": "stream",
          "text": [
            "La audiencia total del calendario generado es igual a: \u001b[1m10.78\u001b[0m milliones de personas.\n"
          ],
          "name": "stdout"
        }
      ]
    },
    {
      "cell_type": "code",
      "metadata": {
        "id": "WRYlE2tP0mFm",
        "colab_type": "code",
        "colab": {
          "base_uri": "https://localhost:8080/",
          "height": 656
        },
        "outputId": "0724d76e-39e0-40d8-a19d-34697b3d62af"
      },
      "source": [
        "# BUSQUEDA ALEATORIA\n",
        "\n",
        "total_audience, created_scheldule = random_search(scheldule, teams, 100000)\n",
        "frame = transform_scheldule(created_scheldule)\n",
        "df = pd.DataFrame(frame)\n",
        "df = df.append(df.sum(numeric_only=True), ignore_index=True)\n",
        "df.fillna('',inplace=True)\n",
        "display(df)\n",
        "print(\"La audiencia total del calendario generado es igual a:\", '\\033[1m' + str(round(total_audience,2)) + '\\033[0m', \"milliones de personas.\")"
      ],
      "execution_count": 24,
      "outputs": [
        {
          "output_type": "display_data",
          "data": {
            "text/html": [
              "<div>\n",
              "<style scoped>\n",
              "    .dataframe tbody tr th:only-of-type {\n",
              "        vertical-align: middle;\n",
              "    }\n",
              "\n",
              "    .dataframe tbody tr th {\n",
              "        vertical-align: top;\n",
              "    }\n",
              "\n",
              "    .dataframe thead th {\n",
              "        text-align: right;\n",
              "    }\n",
              "</style>\n",
              "<table border=\"1\" class=\"dataframe\">\n",
              "  <thead>\n",
              "    <tr style=\"text-align: right;\">\n",
              "      <th></th>\n",
              "      <th>Fecha</th>\n",
              "      <th>Partida</th>\n",
              "      <th>Audiencia (en millones)</th>\n",
              "    </tr>\n",
              "  </thead>\n",
              "  <tbody>\n",
              "    <tr>\n",
              "      <th>0</th>\n",
              "      <td>V20</td>\n",
              "      <td>C - C</td>\n",
              "      <td>0.14</td>\n",
              "    </tr>\n",
              "    <tr>\n",
              "      <th>1</th>\n",
              "      <td>V20</td>\n",
              "      <td>B - B</td>\n",
              "      <td>0.27</td>\n",
              "    </tr>\n",
              "    <tr>\n",
              "      <th>2</th>\n",
              "      <td>S12</td>\n",
              "      <td>B - C</td>\n",
              "      <td>0.23</td>\n",
              "    </tr>\n",
              "    <tr>\n",
              "      <th>3</th>\n",
              "      <td>S12</td>\n",
              "      <td>C - C</td>\n",
              "      <td>0.14</td>\n",
              "    </tr>\n",
              "    <tr>\n",
              "      <th>4</th>\n",
              "      <td>S12</td>\n",
              "      <td>B - C</td>\n",
              "      <td>0.23</td>\n",
              "    </tr>\n",
              "    <tr>\n",
              "      <th>5</th>\n",
              "      <td>S16</td>\n",
              "      <td>A - A</td>\n",
              "      <td>1.05</td>\n",
              "    </tr>\n",
              "    <tr>\n",
              "      <th>6</th>\n",
              "      <td>S16</td>\n",
              "      <td>B - B</td>\n",
              "      <td>0.47</td>\n",
              "    </tr>\n",
              "    <tr>\n",
              "      <th>7</th>\n",
              "      <td>S18</td>\n",
              "      <td>A - A</td>\n",
              "      <td>1.20</td>\n",
              "    </tr>\n",
              "    <tr>\n",
              "      <th>8</th>\n",
              "      <td>S18</td>\n",
              "      <td>B - C</td>\n",
              "      <td>0.45</td>\n",
              "    </tr>\n",
              "    <tr>\n",
              "      <th>9</th>\n",
              "      <td>S20</td>\n",
              "      <td>A - A</td>\n",
              "      <td>2.00</td>\n",
              "    </tr>\n",
              "    <tr>\n",
              "      <th>10</th>\n",
              "      <td>D12</td>\n",
              "      <td>B - B</td>\n",
              "      <td>0.41</td>\n",
              "    </tr>\n",
              "    <tr>\n",
              "      <th>11</th>\n",
              "      <td>D16</td>\n",
              "      <td>C - C</td>\n",
              "      <td>0.19</td>\n",
              "    </tr>\n",
              "    <tr>\n",
              "      <th>12</th>\n",
              "      <td>D16</td>\n",
              "      <td>B - B</td>\n",
              "      <td>0.37</td>\n",
              "    </tr>\n",
              "    <tr>\n",
              "      <th>13</th>\n",
              "      <td>D16</td>\n",
              "      <td>B - C</td>\n",
              "      <td>0.31</td>\n",
              "    </tr>\n",
              "    <tr>\n",
              "      <th>14</th>\n",
              "      <td>D18</td>\n",
              "      <td>A - C</td>\n",
              "      <td>0.50</td>\n",
              "    </tr>\n",
              "    <tr>\n",
              "      <th>15</th>\n",
              "      <td>D20</td>\n",
              "      <td>A - A</td>\n",
              "      <td>1.50</td>\n",
              "    </tr>\n",
              "    <tr>\n",
              "      <th>16</th>\n",
              "      <td>D20</td>\n",
              "      <td>B - B</td>\n",
              "      <td>0.68</td>\n",
              "    </tr>\n",
              "    <tr>\n",
              "      <th>17</th>\n",
              "      <td>L20</td>\n",
              "      <td>B - C</td>\n",
              "      <td>0.23</td>\n",
              "    </tr>\n",
              "    <tr>\n",
              "      <th>18</th>\n",
              "      <td>L20</td>\n",
              "      <td>C - C</td>\n",
              "      <td>0.14</td>\n",
              "    </tr>\n",
              "    <tr>\n",
              "      <th>19</th>\n",
              "      <td></td>\n",
              "      <td></td>\n",
              "      <td>10.51</td>\n",
              "    </tr>\n",
              "  </tbody>\n",
              "</table>\n",
              "</div>"
            ],
            "text/plain": [
              "   Fecha Partida  Audiencia (en millones)\n",
              "0    V20   C - C                     0.14\n",
              "1    V20   B - B                     0.27\n",
              "2    S12   B - C                     0.23\n",
              "3    S12   C - C                     0.14\n",
              "4    S12   B - C                     0.23\n",
              "5    S16   A - A                     1.05\n",
              "6    S16   B - B                     0.47\n",
              "7    S18   A - A                     1.20\n",
              "8    S18   B - C                     0.45\n",
              "9    S20   A - A                     2.00\n",
              "10   D12   B - B                     0.41\n",
              "11   D16   C - C                     0.19\n",
              "12   D16   B - B                     0.37\n",
              "13   D16   B - C                     0.31\n",
              "14   D18   A - C                     0.50\n",
              "15   D20   A - A                     1.50\n",
              "16   D20   B - B                     0.68\n",
              "17   L20   B - C                     0.23\n",
              "18   L20   C - C                     0.14\n",
              "19                                  10.51"
            ]
          },
          "metadata": {
            "tags": []
          }
        },
        {
          "output_type": "stream",
          "text": [
            "La audiencia total del calendario generado es igual a: \u001b[1m10.5\u001b[0m milliones de personas.\n"
          ],
          "name": "stdout"
        }
      ]
    },
    {
      "cell_type": "markdown",
      "metadata": {
        "colab_type": "text",
        "id": "eTFWUJQrtGcv"
      },
      "source": [
        "Enumera las referencias que has utilizado(si ha sido necesario) para llevar a cabo el trabajo"
      ]
    },
    {
      "cell_type": "markdown",
      "metadata": {
        "id": "YKQ_mRBttWsP",
        "colab_type": "text"
      },
      "source": [
        "Respuesta"
      ]
    },
    {
      "cell_type": "code",
      "metadata": {
        "id": "GQLLBNQ58Izi",
        "colab_type": "code",
        "colab": {}
      },
      "source": [
        "# No he utilizado ningun otro fuente aparte del manual de la asignatura"
      ],
      "execution_count": 25,
      "outputs": []
    },
    {
      "cell_type": "markdown",
      "metadata": {
        "id": "kAkDPUyRtYyH",
        "colab_type": "text"
      },
      "source": [
        "Describe brevemente las lineas de como crees que es posible avanzar en el estudio del problema. Ten en cuenta incluso posibles variaciones del problema y/o variaciones al alza del tamaño"
      ]
    },
    {
      "cell_type": "markdown",
      "metadata": {
        "id": "IE0uZmo-tZu-",
        "colab_type": "text"
      },
      "source": [
        "Respuesta"
      ]
    }
  ]
}